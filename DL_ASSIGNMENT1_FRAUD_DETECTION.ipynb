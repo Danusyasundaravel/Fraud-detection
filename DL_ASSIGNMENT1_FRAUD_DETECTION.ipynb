{
  "nbformat": 4,
  "nbformat_minor": 0,
  "metadata": {
    "colab": {
      "provenance": [],
      "mount_file_id": "1tNb8mUJTwka0bfpOjG9jpm2vmkYoCSzW",
      "authorship_tag": "ABX9TyOen5J53Tix4bka8l5IEZmm",
      "include_colab_link": true
    },
    "kernelspec": {
      "name": "python3",
      "display_name": "Python 3"
    },
    "language_info": {
      "name": "python"
    }
  },
  "cells": [
    {
      "cell_type": "markdown",
      "metadata": {
        "id": "view-in-github",
        "colab_type": "text"
      },
      "source": [
        "<a href=\"https://colab.research.google.com/github/Danusyasundaravel/Fraud-detection/blob/main/DL_ASSIGNMENT1_FRAUD_DETECTION.ipynb\" target=\"_parent\"><img src=\"https://colab.research.google.com/assets/colab-badge.svg\" alt=\"Open In Colab\"/></a>"
      ]
    },
    {
      "cell_type": "code",
      "execution_count": 1,
      "metadata": {
        "id": "BIiOCBZd2hOI"
      },
      "outputs": [],
      "source": [
        "import pandas as pd\n",
        "import numpy as np\n",
        "import matplotlib.pyplot as plt\n",
        "import seaborn as sns"
      ]
    },
    {
      "cell_type": "markdown",
      "source": [
        "**LOAD THE DATASET**"
      ],
      "metadata": {
        "id": "GH5-Xj3BVMS5"
      }
    },
    {
      "cell_type": "code",
      "source": [
        "data=pd.read_csv(\"/content/drive/MyDrive/DL/fraud_detection.csv\")\n"
      ],
      "metadata": {
        "id": "Iygj8O6r4D-h"
      },
      "execution_count": 2,
      "outputs": []
    },
    {
      "cell_type": "code",
      "source": [
        "data.head()"
      ],
      "metadata": {
        "colab": {
          "base_uri": "https://localhost:8080/",
          "height": 243
        },
        "id": "5SaGFqt94ODt",
        "outputId": "134a0e29-9d65-4186-d008-0cbe539f781f"
      },
      "execution_count": 3,
      "outputs": [
        {
          "output_type": "execute_result",
          "data": {
            "text/plain": [
              "   Unnamed: 0  step      type     branch    amount     nameOrig  \\\n",
              "0           0     1   PAYMENT  Indonesia   9839.64  C1231006815   \n",
              "1           1     1   PAYMENT      India   1864.28  C1666544295   \n",
              "2           2     1  TRANSFER      India    181.00  C1305486145   \n",
              "3           3     1  CASH_OUT  Australia    181.00   C840083671   \n",
              "4           4     1   PAYMENT  Australia  11668.14  C2048537720   \n",
              "\n",
              "   oldbalanceOrg  newbalanceOrig     nameDest  oldbalanceDest  newbalanceDest  \\\n",
              "0       170136.0       160296.36  M1979787155             0.0             0.0   \n",
              "1        21249.0        19384.72  M2044282225             0.0             0.0   \n",
              "2          181.0            0.00   C553264065             0.0             0.0   \n",
              "3          181.0            0.00    C38997010         21182.0             0.0   \n",
              "4        41554.0        29885.86  M1230701703             0.0             0.0   \n",
              "\n",
              "   unusuallogin  isFlaggedFraud Acct type Date of transaction Time of day  \\\n",
              "0             9               0   Current            3/1/2018     Morning   \n",
              "1            10               0   Savings            5/1/2018     Morning   \n",
              "2             2               0   Current            7/1/2018     Morning   \n",
              "3             1               0   Current            6/1/2018   Afternoon   \n",
              "4            17               0   Current            6/1/2018     Morning   \n",
              "\n",
              "   isFraud  \n",
              "0      0.0  \n",
              "1      0.0  \n",
              "2      1.0  \n",
              "3      1.0  \n",
              "4      0.0  "
            ],
            "text/html": [
              "\n",
              "  <div id=\"df-972bbe43-2422-4a6b-854d-9818a7468fef\" class=\"colab-df-container\">\n",
              "    <div>\n",
              "<style scoped>\n",
              "    .dataframe tbody tr th:only-of-type {\n",
              "        vertical-align: middle;\n",
              "    }\n",
              "\n",
              "    .dataframe tbody tr th {\n",
              "        vertical-align: top;\n",
              "    }\n",
              "\n",
              "    .dataframe thead th {\n",
              "        text-align: right;\n",
              "    }\n",
              "</style>\n",
              "<table border=\"1\" class=\"dataframe\">\n",
              "  <thead>\n",
              "    <tr style=\"text-align: right;\">\n",
              "      <th></th>\n",
              "      <th>Unnamed: 0</th>\n",
              "      <th>step</th>\n",
              "      <th>type</th>\n",
              "      <th>branch</th>\n",
              "      <th>amount</th>\n",
              "      <th>nameOrig</th>\n",
              "      <th>oldbalanceOrg</th>\n",
              "      <th>newbalanceOrig</th>\n",
              "      <th>nameDest</th>\n",
              "      <th>oldbalanceDest</th>\n",
              "      <th>newbalanceDest</th>\n",
              "      <th>unusuallogin</th>\n",
              "      <th>isFlaggedFraud</th>\n",
              "      <th>Acct type</th>\n",
              "      <th>Date of transaction</th>\n",
              "      <th>Time of day</th>\n",
              "      <th>isFraud</th>\n",
              "    </tr>\n",
              "  </thead>\n",
              "  <tbody>\n",
              "    <tr>\n",
              "      <th>0</th>\n",
              "      <td>0</td>\n",
              "      <td>1</td>\n",
              "      <td>PAYMENT</td>\n",
              "      <td>Indonesia</td>\n",
              "      <td>9839.64</td>\n",
              "      <td>C1231006815</td>\n",
              "      <td>170136.0</td>\n",
              "      <td>160296.36</td>\n",
              "      <td>M1979787155</td>\n",
              "      <td>0.0</td>\n",
              "      <td>0.0</td>\n",
              "      <td>9</td>\n",
              "      <td>0</td>\n",
              "      <td>Current</td>\n",
              "      <td>3/1/2018</td>\n",
              "      <td>Morning</td>\n",
              "      <td>0.0</td>\n",
              "    </tr>\n",
              "    <tr>\n",
              "      <th>1</th>\n",
              "      <td>1</td>\n",
              "      <td>1</td>\n",
              "      <td>PAYMENT</td>\n",
              "      <td>India</td>\n",
              "      <td>1864.28</td>\n",
              "      <td>C1666544295</td>\n",
              "      <td>21249.0</td>\n",
              "      <td>19384.72</td>\n",
              "      <td>M2044282225</td>\n",
              "      <td>0.0</td>\n",
              "      <td>0.0</td>\n",
              "      <td>10</td>\n",
              "      <td>0</td>\n",
              "      <td>Savings</td>\n",
              "      <td>5/1/2018</td>\n",
              "      <td>Morning</td>\n",
              "      <td>0.0</td>\n",
              "    </tr>\n",
              "    <tr>\n",
              "      <th>2</th>\n",
              "      <td>2</td>\n",
              "      <td>1</td>\n",
              "      <td>TRANSFER</td>\n",
              "      <td>India</td>\n",
              "      <td>181.00</td>\n",
              "      <td>C1305486145</td>\n",
              "      <td>181.0</td>\n",
              "      <td>0.00</td>\n",
              "      <td>C553264065</td>\n",
              "      <td>0.0</td>\n",
              "      <td>0.0</td>\n",
              "      <td>2</td>\n",
              "      <td>0</td>\n",
              "      <td>Current</td>\n",
              "      <td>7/1/2018</td>\n",
              "      <td>Morning</td>\n",
              "      <td>1.0</td>\n",
              "    </tr>\n",
              "    <tr>\n",
              "      <th>3</th>\n",
              "      <td>3</td>\n",
              "      <td>1</td>\n",
              "      <td>CASH_OUT</td>\n",
              "      <td>Australia</td>\n",
              "      <td>181.00</td>\n",
              "      <td>C840083671</td>\n",
              "      <td>181.0</td>\n",
              "      <td>0.00</td>\n",
              "      <td>C38997010</td>\n",
              "      <td>21182.0</td>\n",
              "      <td>0.0</td>\n",
              "      <td>1</td>\n",
              "      <td>0</td>\n",
              "      <td>Current</td>\n",
              "      <td>6/1/2018</td>\n",
              "      <td>Afternoon</td>\n",
              "      <td>1.0</td>\n",
              "    </tr>\n",
              "    <tr>\n",
              "      <th>4</th>\n",
              "      <td>4</td>\n",
              "      <td>1</td>\n",
              "      <td>PAYMENT</td>\n",
              "      <td>Australia</td>\n",
              "      <td>11668.14</td>\n",
              "      <td>C2048537720</td>\n",
              "      <td>41554.0</td>\n",
              "      <td>29885.86</td>\n",
              "      <td>M1230701703</td>\n",
              "      <td>0.0</td>\n",
              "      <td>0.0</td>\n",
              "      <td>17</td>\n",
              "      <td>0</td>\n",
              "      <td>Current</td>\n",
              "      <td>6/1/2018</td>\n",
              "      <td>Morning</td>\n",
              "      <td>0.0</td>\n",
              "    </tr>\n",
              "  </tbody>\n",
              "</table>\n",
              "</div>\n",
              "    <div class=\"colab-df-buttons\">\n",
              "\n",
              "  <div class=\"colab-df-container\">\n",
              "    <button class=\"colab-df-convert\" onclick=\"convertToInteractive('df-972bbe43-2422-4a6b-854d-9818a7468fef')\"\n",
              "            title=\"Convert this dataframe to an interactive table.\"\n",
              "            style=\"display:none;\">\n",
              "\n",
              "  <svg xmlns=\"http://www.w3.org/2000/svg\" height=\"24px\" viewBox=\"0 -960 960 960\">\n",
              "    <path d=\"M120-120v-720h720v720H120Zm60-500h600v-160H180v160Zm220 220h160v-160H400v160Zm0 220h160v-160H400v160ZM180-400h160v-160H180v160Zm440 0h160v-160H620v160ZM180-180h160v-160H180v160Zm440 0h160v-160H620v160Z\"/>\n",
              "  </svg>\n",
              "    </button>\n",
              "\n",
              "  <style>\n",
              "    .colab-df-container {\n",
              "      display:flex;\n",
              "      gap: 12px;\n",
              "    }\n",
              "\n",
              "    .colab-df-convert {\n",
              "      background-color: #E8F0FE;\n",
              "      border: none;\n",
              "      border-radius: 50%;\n",
              "      cursor: pointer;\n",
              "      display: none;\n",
              "      fill: #1967D2;\n",
              "      height: 32px;\n",
              "      padding: 0 0 0 0;\n",
              "      width: 32px;\n",
              "    }\n",
              "\n",
              "    .colab-df-convert:hover {\n",
              "      background-color: #E2EBFA;\n",
              "      box-shadow: 0px 1px 2px rgba(60, 64, 67, 0.3), 0px 1px 3px 1px rgba(60, 64, 67, 0.15);\n",
              "      fill: #174EA6;\n",
              "    }\n",
              "\n",
              "    .colab-df-buttons div {\n",
              "      margin-bottom: 4px;\n",
              "    }\n",
              "\n",
              "    [theme=dark] .colab-df-convert {\n",
              "      background-color: #3B4455;\n",
              "      fill: #D2E3FC;\n",
              "    }\n",
              "\n",
              "    [theme=dark] .colab-df-convert:hover {\n",
              "      background-color: #434B5C;\n",
              "      box-shadow: 0px 1px 3px 1px rgba(0, 0, 0, 0.15);\n",
              "      filter: drop-shadow(0px 1px 2px rgba(0, 0, 0, 0.3));\n",
              "      fill: #FFFFFF;\n",
              "    }\n",
              "  </style>\n",
              "\n",
              "    <script>\n",
              "      const buttonEl =\n",
              "        document.querySelector('#df-972bbe43-2422-4a6b-854d-9818a7468fef button.colab-df-convert');\n",
              "      buttonEl.style.display =\n",
              "        google.colab.kernel.accessAllowed ? 'block' : 'none';\n",
              "\n",
              "      async function convertToInteractive(key) {\n",
              "        const element = document.querySelector('#df-972bbe43-2422-4a6b-854d-9818a7468fef');\n",
              "        const dataTable =\n",
              "          await google.colab.kernel.invokeFunction('convertToInteractive',\n",
              "                                                    [key], {});\n",
              "        if (!dataTable) return;\n",
              "\n",
              "        const docLinkHtml = 'Like what you see? Visit the ' +\n",
              "          '<a target=\"_blank\" href=https://colab.research.google.com/notebooks/data_table.ipynb>data table notebook</a>'\n",
              "          + ' to learn more about interactive tables.';\n",
              "        element.innerHTML = '';\n",
              "        dataTable['output_type'] = 'display_data';\n",
              "        await google.colab.output.renderOutput(dataTable, element);\n",
              "        const docLink = document.createElement('div');\n",
              "        docLink.innerHTML = docLinkHtml;\n",
              "        element.appendChild(docLink);\n",
              "      }\n",
              "    </script>\n",
              "  </div>\n",
              "\n",
              "\n",
              "<div id=\"df-8af0f242-909a-4227-8b26-efa2123c637a\">\n",
              "  <button class=\"colab-df-quickchart\" onclick=\"quickchart('df-8af0f242-909a-4227-8b26-efa2123c637a')\"\n",
              "            title=\"Suggest charts\"\n",
              "            style=\"display:none;\">\n",
              "\n",
              "<svg xmlns=\"http://www.w3.org/2000/svg\" height=\"24px\"viewBox=\"0 0 24 24\"\n",
              "     width=\"24px\">\n",
              "    <g>\n",
              "        <path d=\"M19 3H5c-1.1 0-2 .9-2 2v14c0 1.1.9 2 2 2h14c1.1 0 2-.9 2-2V5c0-1.1-.9-2-2-2zM9 17H7v-7h2v7zm4 0h-2V7h2v10zm4 0h-2v-4h2v4z\"/>\n",
              "    </g>\n",
              "</svg>\n",
              "  </button>\n",
              "\n",
              "<style>\n",
              "  .colab-df-quickchart {\n",
              "      --bg-color: #E8F0FE;\n",
              "      --fill-color: #1967D2;\n",
              "      --hover-bg-color: #E2EBFA;\n",
              "      --hover-fill-color: #174EA6;\n",
              "      --disabled-fill-color: #AAA;\n",
              "      --disabled-bg-color: #DDD;\n",
              "  }\n",
              "\n",
              "  [theme=dark] .colab-df-quickchart {\n",
              "      --bg-color: #3B4455;\n",
              "      --fill-color: #D2E3FC;\n",
              "      --hover-bg-color: #434B5C;\n",
              "      --hover-fill-color: #FFFFFF;\n",
              "      --disabled-bg-color: #3B4455;\n",
              "      --disabled-fill-color: #666;\n",
              "  }\n",
              "\n",
              "  .colab-df-quickchart {\n",
              "    background-color: var(--bg-color);\n",
              "    border: none;\n",
              "    border-radius: 50%;\n",
              "    cursor: pointer;\n",
              "    display: none;\n",
              "    fill: var(--fill-color);\n",
              "    height: 32px;\n",
              "    padding: 0;\n",
              "    width: 32px;\n",
              "  }\n",
              "\n",
              "  .colab-df-quickchart:hover {\n",
              "    background-color: var(--hover-bg-color);\n",
              "    box-shadow: 0 1px 2px rgba(60, 64, 67, 0.3), 0 1px 3px 1px rgba(60, 64, 67, 0.15);\n",
              "    fill: var(--button-hover-fill-color);\n",
              "  }\n",
              "\n",
              "  .colab-df-quickchart-complete:disabled,\n",
              "  .colab-df-quickchart-complete:disabled:hover {\n",
              "    background-color: var(--disabled-bg-color);\n",
              "    fill: var(--disabled-fill-color);\n",
              "    box-shadow: none;\n",
              "  }\n",
              "\n",
              "  .colab-df-spinner {\n",
              "    border: 2px solid var(--fill-color);\n",
              "    border-color: transparent;\n",
              "    border-bottom-color: var(--fill-color);\n",
              "    animation:\n",
              "      spin 1s steps(1) infinite;\n",
              "  }\n",
              "\n",
              "  @keyframes spin {\n",
              "    0% {\n",
              "      border-color: transparent;\n",
              "      border-bottom-color: var(--fill-color);\n",
              "      border-left-color: var(--fill-color);\n",
              "    }\n",
              "    20% {\n",
              "      border-color: transparent;\n",
              "      border-left-color: var(--fill-color);\n",
              "      border-top-color: var(--fill-color);\n",
              "    }\n",
              "    30% {\n",
              "      border-color: transparent;\n",
              "      border-left-color: var(--fill-color);\n",
              "      border-top-color: var(--fill-color);\n",
              "      border-right-color: var(--fill-color);\n",
              "    }\n",
              "    40% {\n",
              "      border-color: transparent;\n",
              "      border-right-color: var(--fill-color);\n",
              "      border-top-color: var(--fill-color);\n",
              "    }\n",
              "    60% {\n",
              "      border-color: transparent;\n",
              "      border-right-color: var(--fill-color);\n",
              "    }\n",
              "    80% {\n",
              "      border-color: transparent;\n",
              "      border-right-color: var(--fill-color);\n",
              "      border-bottom-color: var(--fill-color);\n",
              "    }\n",
              "    90% {\n",
              "      border-color: transparent;\n",
              "      border-bottom-color: var(--fill-color);\n",
              "    }\n",
              "  }\n",
              "</style>\n",
              "\n",
              "  <script>\n",
              "    async function quickchart(key) {\n",
              "      const quickchartButtonEl =\n",
              "        document.querySelector('#' + key + ' button');\n",
              "      quickchartButtonEl.disabled = true;  // To prevent multiple clicks.\n",
              "      quickchartButtonEl.classList.add('colab-df-spinner');\n",
              "      try {\n",
              "        const charts = await google.colab.kernel.invokeFunction(\n",
              "            'suggestCharts', [key], {});\n",
              "      } catch (error) {\n",
              "        console.error('Error during call to suggestCharts:', error);\n",
              "      }\n",
              "      quickchartButtonEl.classList.remove('colab-df-spinner');\n",
              "      quickchartButtonEl.classList.add('colab-df-quickchart-complete');\n",
              "    }\n",
              "    (() => {\n",
              "      let quickchartButtonEl =\n",
              "        document.querySelector('#df-8af0f242-909a-4227-8b26-efa2123c637a button');\n",
              "      quickchartButtonEl.style.display =\n",
              "        google.colab.kernel.accessAllowed ? 'block' : 'none';\n",
              "    })();\n",
              "  </script>\n",
              "</div>\n",
              "\n",
              "    </div>\n",
              "  </div>\n"
            ],
            "application/vnd.google.colaboratory.intrinsic+json": {
              "type": "dataframe",
              "variable_name": "data",
              "summary": "{\n  \"name\": \"data\",\n  \"rows\": 10127,\n  \"fields\": [\n    {\n      \"column\": \"Unnamed: 0\",\n      \"properties\": {\n        \"dtype\": \"number\",\n        \"std\": 2923,\n        \"min\": 0,\n        \"max\": 10126,\n        \"num_unique_values\": 10127,\n        \"samples\": [\n          3781,\n          2922,\n          5070\n        ],\n        \"semantic_type\": \"\",\n        \"description\": \"\"\n      }\n    },\n    {\n      \"column\": \"step\",\n      \"properties\": {\n        \"dtype\": \"number\",\n        \"std\": 2,\n        \"min\": 1,\n        \"max\": 7,\n        \"num_unique_values\": 7,\n        \"samples\": [\n          1,\n          2,\n          6\n        ],\n        \"semantic_type\": \"\",\n        \"description\": \"\"\n      }\n    },\n    {\n      \"column\": \"type\",\n      \"properties\": {\n        \"dtype\": \"category\",\n        \"num_unique_values\": 5,\n        \"samples\": [\n          \"TRANSFER\",\n          \"CASH_IN\",\n          \"CASH_OUT\"\n        ],\n        \"semantic_type\": \"\",\n        \"description\": \"\"\n      }\n    },\n    {\n      \"column\": \"branch\",\n      \"properties\": {\n        \"dtype\": \"category\",\n        \"num_unique_values\": 135,\n        \"samples\": [\n          \"Suiza\",\n          \"Ucrania\",\n          \"Barein\"\n        ],\n        \"semantic_type\": \"\",\n        \"description\": \"\"\n      }\n    },\n    {\n      \"column\": \"amount\",\n      \"properties\": {\n        \"dtype\": \"number\",\n        \"std\": 270636.8898030925,\n        \"min\": 2.39,\n        \"max\": 10000000.0,\n        \"num_unique_values\": 10079,\n        \"samples\": [\n          7788.88,\n          5031.22,\n          9198.49\n        ],\n        \"semantic_type\": \"\",\n        \"description\": \"\"\n      }\n    },\n    {\n      \"column\": \"nameOrig\",\n      \"properties\": {\n        \"dtype\": \"string\",\n        \"num_unique_values\": 10121,\n        \"samples\": [\n          \"C1202508091\",\n          \"C27971761\",\n          \"C1374688565\"\n        ],\n        \"semantic_type\": \"\",\n        \"description\": \"\"\n      }\n    },\n    {\n      \"column\": \"oldbalanceOrg\",\n      \"properties\": {\n        \"dtype\": \"number\",\n        \"std\": 2124553.903912973,\n        \"min\": 0.0,\n        \"max\": 12900000.0,\n        \"num_unique_values\": 7328,\n        \"samples\": [\n          5218.37,\n          7220754.65,\n          2483228.64\n        ],\n        \"semantic_type\": \"\",\n        \"description\": \"\"\n      }\n    },\n    {\n      \"column\": \"newbalanceOrig\",\n      \"properties\": {\n        \"dtype\": \"number\",\n        \"std\": 2169946.030745429,\n        \"min\": 0.0,\n        \"max\": 13000000.0,\n        \"num_unique_values\": 5937,\n        \"samples\": [\n          9506081.11,\n          8783.78,\n          67157.27\n        ],\n        \"semantic_type\": \"\",\n        \"description\": \"\"\n      }\n    },\n    {\n      \"column\": \"nameDest\",\n      \"properties\": {\n        \"dtype\": \"string\",\n        \"num_unique_values\": 6495,\n        \"samples\": [\n          \"M1253827612\",\n          \"M212397882\",\n          \"M1320826684\"\n        ],\n        \"semantic_type\": \"\",\n        \"description\": \"\"\n      }\n    },\n    {\n      \"column\": \"oldbalanceDest\",\n      \"properties\": {\n        \"dtype\": \"number\",\n        \"std\": 2677976.088769737,\n        \"min\": 0.0,\n        \"max\": 19500000.0,\n        \"num_unique_values\": 4161,\n        \"samples\": [\n          385674.22,\n          693324.61,\n          8515645.77\n        ],\n        \"semantic_type\": \"\",\n        \"description\": \"\"\n      }\n    },\n    {\n      \"column\": \"newbalanceDest\",\n      \"properties\": {\n        \"dtype\": \"number\",\n        \"std\": 3048644.4788043634,\n        \"min\": 0.0,\n        \"max\": 22600000.0,\n        \"num_unique_values\": 1509,\n        \"samples\": [\n          6736054.44,\n          499000.92,\n          72541.05\n        ],\n        \"semantic_type\": \"\",\n        \"description\": \"\"\n      }\n    },\n    {\n      \"column\": \"unusuallogin\",\n      \"properties\": {\n        \"dtype\": \"number\",\n        \"std\": 5,\n        \"min\": 0,\n        \"max\": 20,\n        \"num_unique_values\": 21,\n        \"samples\": [\n          9,\n          7,\n          6\n        ],\n        \"semantic_type\": \"\",\n        \"description\": \"\"\n      }\n    },\n    {\n      \"column\": \"isFlaggedFraud\",\n      \"properties\": {\n        \"dtype\": \"number\",\n        \"std\": 0,\n        \"min\": 0,\n        \"max\": 0,\n        \"num_unique_values\": 1,\n        \"samples\": [\n          0\n        ],\n        \"semantic_type\": \"\",\n        \"description\": \"\"\n      }\n    },\n    {\n      \"column\": \"Acct type\",\n      \"properties\": {\n        \"dtype\": \"category\",\n        \"num_unique_values\": 2,\n        \"samples\": [\n          \"Savings\"\n        ],\n        \"semantic_type\": \"\",\n        \"description\": \"\"\n      }\n    },\n    {\n      \"column\": \"Date of transaction\",\n      \"properties\": {\n        \"dtype\": \"category\",\n        \"num_unique_values\": 14,\n        \"samples\": [\n          \"13/1/2018\"\n        ],\n        \"semantic_type\": \"\",\n        \"description\": \"\"\n      }\n    },\n    {\n      \"column\": \"Time of day\",\n      \"properties\": {\n        \"dtype\": \"category\",\n        \"num_unique_values\": 3,\n        \"samples\": [\n          \"Morning\"\n        ],\n        \"semantic_type\": \"\",\n        \"description\": \"\"\n      }\n    },\n    {\n      \"column\": \"isFraud\",\n      \"properties\": {\n        \"dtype\": \"number\",\n        \"std\": 0.08167988116517304,\n        \"min\": 0.0,\n        \"max\": 1.0,\n        \"num_unique_values\": 2,\n        \"samples\": [\n          1.0\n        ],\n        \"semantic_type\": \"\",\n        \"description\": \"\"\n      }\n    }\n  ]\n}"
            }
          },
          "metadata": {},
          "execution_count": 3
        }
      ]
    },
    {
      "cell_type": "code",
      "source": [
        "data.info()"
      ],
      "metadata": {
        "colab": {
          "base_uri": "https://localhost:8080/"
        },
        "id": "-Gtqv_O-4VYB",
        "outputId": "17b28de7-4af9-4bae-fd7b-6189086c6a7a"
      },
      "execution_count": 4,
      "outputs": [
        {
          "output_type": "stream",
          "name": "stdout",
          "text": [
            "<class 'pandas.core.frame.DataFrame'>\n",
            "RangeIndex: 10127 entries, 0 to 10126\n",
            "Data columns (total 17 columns):\n",
            " #   Column               Non-Null Count  Dtype  \n",
            "---  ------               --------------  -----  \n",
            " 0   Unnamed: 0           10127 non-null  int64  \n",
            " 1   step                 10127 non-null  int64  \n",
            " 2   type                 10123 non-null  object \n",
            " 3   branch               10127 non-null  object \n",
            " 4   amount               10125 non-null  float64\n",
            " 5   nameOrig             10121 non-null  object \n",
            " 6   oldbalanceOrg        10125 non-null  float64\n",
            " 7   newbalanceOrig       10127 non-null  float64\n",
            " 8   nameDest             10121 non-null  object \n",
            " 9   oldbalanceDest       10126 non-null  float64\n",
            " 10  newbalanceDest       10125 non-null  float64\n",
            " 11  unusuallogin         10127 non-null  int64  \n",
            " 12  isFlaggedFraud       10127 non-null  int64  \n",
            " 13  Acct type            10117 non-null  object \n",
            " 14  Date of transaction  10120 non-null  object \n",
            " 15  Time of day          10125 non-null  object \n",
            " 16  isFraud              10125 non-null  float64\n",
            "dtypes: float64(6), int64(4), object(7)\n",
            "memory usage: 1.3+ MB\n"
          ]
        }
      ]
    },
    {
      "cell_type": "markdown",
      "source": [
        "**CHECK FOR NULL VALUES AND DROP THE VALUES**"
      ],
      "metadata": {
        "id": "weQyCNJDVRUH"
      }
    },
    {
      "cell_type": "code",
      "source": [
        "data.isnull().sum()"
      ],
      "metadata": {
        "colab": {
          "base_uri": "https://localhost:8080/"
        },
        "id": "gJLfcL2R4aWd",
        "outputId": "21fa0a9c-2c2a-4f60-de0d-e993c44043c9"
      },
      "execution_count": 5,
      "outputs": [
        {
          "output_type": "execute_result",
          "data": {
            "text/plain": [
              "Unnamed: 0              0\n",
              "step                    0\n",
              "type                    4\n",
              "branch                  0\n",
              "amount                  2\n",
              "nameOrig                6\n",
              "oldbalanceOrg           2\n",
              "newbalanceOrig          0\n",
              "nameDest                6\n",
              "oldbalanceDest          1\n",
              "newbalanceDest          2\n",
              "unusuallogin            0\n",
              "isFlaggedFraud          0\n",
              "Acct type              10\n",
              "Date of transaction     7\n",
              "Time of day             2\n",
              "isFraud                 2\n",
              "dtype: int64"
            ]
          },
          "metadata": {},
          "execution_count": 5
        }
      ]
    },
    {
      "cell_type": "code",
      "source": [
        "data.dropna(inplace=True)"
      ],
      "metadata": {
        "id": "qPuMT_XN4hOI"
      },
      "execution_count": 6,
      "outputs": []
    },
    {
      "cell_type": "markdown",
      "source": [
        "**DROPPING COLUMNS THAT DOES NOT HELP IN CLASSIFICATION**"
      ],
      "metadata": {
        "id": "Nga6--xiVZgN"
      }
    },
    {
      "cell_type": "code",
      "source": [
        "data.drop([\"Unnamed: 0\",\"nameOrig\",\"nameDest\"],axis=1,inplace=True)"
      ],
      "metadata": {
        "id": "F1BAvHtT4uOE"
      },
      "execution_count": 7,
      "outputs": []
    },
    {
      "cell_type": "code",
      "source": [
        "data.drop([\"Date of transaction\"],axis=1,inplace=True)"
      ],
      "metadata": {
        "id": "z0z_s9_Y8Too"
      },
      "execution_count": 12,
      "outputs": []
    },
    {
      "cell_type": "markdown",
      "source": [
        "**DATA DESCRIBE**"
      ],
      "metadata": {
        "id": "gt4qq7U7VioY"
      }
    },
    {
      "cell_type": "code",
      "source": [
        "data.describe(include=\"all\")"
      ],
      "metadata": {
        "colab": {
          "base_uri": "https://localhost:8080/",
          "height": 449
        },
        "id": "y-ZO1rIy5PFH",
        "outputId": "a77481ab-8698-451a-a715-37ed77f29428"
      },
      "execution_count": 8,
      "outputs": [
        {
          "output_type": "execute_result",
          "data": {
            "text/plain": [
              "                step     type          branch        amount  oldbalanceOrg  \\\n",
              "count   10088.000000    10088           10088  1.008800e+04   1.008800e+04   \n",
              "unique           NaN        5             135           NaN            NaN   \n",
              "top              NaN  PAYMENT  Estados Unidos           NaN            NaN   \n",
              "freq             NaN     5522            1277           NaN            NaN   \n",
              "mean        4.219568      NaN             NaN  1.049915e+05   8.867322e+05   \n",
              "std         2.482469      NaN             NaN  2.710144e+05   2.127829e+06   \n",
              "min         1.000000      NaN             NaN  2.390000e+00   0.000000e+00   \n",
              "25%         1.000000      NaN             NaN  4.392407e+03   1.355000e+02   \n",
              "50%         5.000000      NaN             NaN  1.281875e+04   2.139400e+04   \n",
              "75%         7.000000      NaN             NaN  1.144090e+05   1.732060e+05   \n",
              "max         7.000000      NaN             NaN  1.000000e+07   1.290000e+07   \n",
              "\n",
              "        newbalanceOrig  oldbalanceDest  newbalanceDest  unusuallogin  \\\n",
              "count     1.008800e+04    1.008800e+04    1.008800e+04  10088.000000   \n",
              "unique             NaN             NaN             NaN           NaN   \n",
              "top                NaN             NaN             NaN           NaN   \n",
              "freq               NaN             NaN             NaN           NaN   \n",
              "mean      9.077738e+05    9.345118e+05    1.108236e+06     10.515266   \n",
              "std       2.173468e+06    2.680995e+06    3.046412e+06      5.809692   \n",
              "min       0.000000e+00    0.000000e+00    0.000000e+00      0.000000   \n",
              "25%       0.000000e+00    0.000000e+00    0.000000e+00      6.000000   \n",
              "50%       1.028301e+04    0.000000e+00    0.000000e+00     10.000000   \n",
              "75%       1.721509e+05    2.818829e+05    2.523736e+05     16.000000   \n",
              "max       1.300000e+07    1.950000e+07    2.260000e+07     20.000000   \n",
              "\n",
              "        isFlaggedFraud Acct type Date of transaction Time of day       isFraud  \n",
              "count          10088.0     10088               10088       10088  10088.000000  \n",
              "unique             NaN         2                  14           3           NaN  \n",
              "top                NaN   Savings            6/1/2018   Afternoon           NaN  \n",
              "freq               NaN      6971                1444        3615           NaN  \n",
              "mean               0.0       NaN                 NaN         NaN      0.006741  \n",
              "std                0.0       NaN                 NaN         NaN      0.081829  \n",
              "min                0.0       NaN                 NaN         NaN      0.000000  \n",
              "25%                0.0       NaN                 NaN         NaN      0.000000  \n",
              "50%                0.0       NaN                 NaN         NaN      0.000000  \n",
              "75%                0.0       NaN                 NaN         NaN      0.000000  \n",
              "max                0.0       NaN                 NaN         NaN      1.000000  "
            ],
            "text/html": [
              "\n",
              "  <div id=\"df-d2a7d48e-88b8-4812-bf3e-27f60adb0feb\" class=\"colab-df-container\">\n",
              "    <div>\n",
              "<style scoped>\n",
              "    .dataframe tbody tr th:only-of-type {\n",
              "        vertical-align: middle;\n",
              "    }\n",
              "\n",
              "    .dataframe tbody tr th {\n",
              "        vertical-align: top;\n",
              "    }\n",
              "\n",
              "    .dataframe thead th {\n",
              "        text-align: right;\n",
              "    }\n",
              "</style>\n",
              "<table border=\"1\" class=\"dataframe\">\n",
              "  <thead>\n",
              "    <tr style=\"text-align: right;\">\n",
              "      <th></th>\n",
              "      <th>step</th>\n",
              "      <th>type</th>\n",
              "      <th>branch</th>\n",
              "      <th>amount</th>\n",
              "      <th>oldbalanceOrg</th>\n",
              "      <th>newbalanceOrig</th>\n",
              "      <th>oldbalanceDest</th>\n",
              "      <th>newbalanceDest</th>\n",
              "      <th>unusuallogin</th>\n",
              "      <th>isFlaggedFraud</th>\n",
              "      <th>Acct type</th>\n",
              "      <th>Date of transaction</th>\n",
              "      <th>Time of day</th>\n",
              "      <th>isFraud</th>\n",
              "    </tr>\n",
              "  </thead>\n",
              "  <tbody>\n",
              "    <tr>\n",
              "      <th>count</th>\n",
              "      <td>10088.000000</td>\n",
              "      <td>10088</td>\n",
              "      <td>10088</td>\n",
              "      <td>1.008800e+04</td>\n",
              "      <td>1.008800e+04</td>\n",
              "      <td>1.008800e+04</td>\n",
              "      <td>1.008800e+04</td>\n",
              "      <td>1.008800e+04</td>\n",
              "      <td>10088.000000</td>\n",
              "      <td>10088.0</td>\n",
              "      <td>10088</td>\n",
              "      <td>10088</td>\n",
              "      <td>10088</td>\n",
              "      <td>10088.000000</td>\n",
              "    </tr>\n",
              "    <tr>\n",
              "      <th>unique</th>\n",
              "      <td>NaN</td>\n",
              "      <td>5</td>\n",
              "      <td>135</td>\n",
              "      <td>NaN</td>\n",
              "      <td>NaN</td>\n",
              "      <td>NaN</td>\n",
              "      <td>NaN</td>\n",
              "      <td>NaN</td>\n",
              "      <td>NaN</td>\n",
              "      <td>NaN</td>\n",
              "      <td>2</td>\n",
              "      <td>14</td>\n",
              "      <td>3</td>\n",
              "      <td>NaN</td>\n",
              "    </tr>\n",
              "    <tr>\n",
              "      <th>top</th>\n",
              "      <td>NaN</td>\n",
              "      <td>PAYMENT</td>\n",
              "      <td>Estados Unidos</td>\n",
              "      <td>NaN</td>\n",
              "      <td>NaN</td>\n",
              "      <td>NaN</td>\n",
              "      <td>NaN</td>\n",
              "      <td>NaN</td>\n",
              "      <td>NaN</td>\n",
              "      <td>NaN</td>\n",
              "      <td>Savings</td>\n",
              "      <td>6/1/2018</td>\n",
              "      <td>Afternoon</td>\n",
              "      <td>NaN</td>\n",
              "    </tr>\n",
              "    <tr>\n",
              "      <th>freq</th>\n",
              "      <td>NaN</td>\n",
              "      <td>5522</td>\n",
              "      <td>1277</td>\n",
              "      <td>NaN</td>\n",
              "      <td>NaN</td>\n",
              "      <td>NaN</td>\n",
              "      <td>NaN</td>\n",
              "      <td>NaN</td>\n",
              "      <td>NaN</td>\n",
              "      <td>NaN</td>\n",
              "      <td>6971</td>\n",
              "      <td>1444</td>\n",
              "      <td>3615</td>\n",
              "      <td>NaN</td>\n",
              "    </tr>\n",
              "    <tr>\n",
              "      <th>mean</th>\n",
              "      <td>4.219568</td>\n",
              "      <td>NaN</td>\n",
              "      <td>NaN</td>\n",
              "      <td>1.049915e+05</td>\n",
              "      <td>8.867322e+05</td>\n",
              "      <td>9.077738e+05</td>\n",
              "      <td>9.345118e+05</td>\n",
              "      <td>1.108236e+06</td>\n",
              "      <td>10.515266</td>\n",
              "      <td>0.0</td>\n",
              "      <td>NaN</td>\n",
              "      <td>NaN</td>\n",
              "      <td>NaN</td>\n",
              "      <td>0.006741</td>\n",
              "    </tr>\n",
              "    <tr>\n",
              "      <th>std</th>\n",
              "      <td>2.482469</td>\n",
              "      <td>NaN</td>\n",
              "      <td>NaN</td>\n",
              "      <td>2.710144e+05</td>\n",
              "      <td>2.127829e+06</td>\n",
              "      <td>2.173468e+06</td>\n",
              "      <td>2.680995e+06</td>\n",
              "      <td>3.046412e+06</td>\n",
              "      <td>5.809692</td>\n",
              "      <td>0.0</td>\n",
              "      <td>NaN</td>\n",
              "      <td>NaN</td>\n",
              "      <td>NaN</td>\n",
              "      <td>0.081829</td>\n",
              "    </tr>\n",
              "    <tr>\n",
              "      <th>min</th>\n",
              "      <td>1.000000</td>\n",
              "      <td>NaN</td>\n",
              "      <td>NaN</td>\n",
              "      <td>2.390000e+00</td>\n",
              "      <td>0.000000e+00</td>\n",
              "      <td>0.000000e+00</td>\n",
              "      <td>0.000000e+00</td>\n",
              "      <td>0.000000e+00</td>\n",
              "      <td>0.000000</td>\n",
              "      <td>0.0</td>\n",
              "      <td>NaN</td>\n",
              "      <td>NaN</td>\n",
              "      <td>NaN</td>\n",
              "      <td>0.000000</td>\n",
              "    </tr>\n",
              "    <tr>\n",
              "      <th>25%</th>\n",
              "      <td>1.000000</td>\n",
              "      <td>NaN</td>\n",
              "      <td>NaN</td>\n",
              "      <td>4.392407e+03</td>\n",
              "      <td>1.355000e+02</td>\n",
              "      <td>0.000000e+00</td>\n",
              "      <td>0.000000e+00</td>\n",
              "      <td>0.000000e+00</td>\n",
              "      <td>6.000000</td>\n",
              "      <td>0.0</td>\n",
              "      <td>NaN</td>\n",
              "      <td>NaN</td>\n",
              "      <td>NaN</td>\n",
              "      <td>0.000000</td>\n",
              "    </tr>\n",
              "    <tr>\n",
              "      <th>50%</th>\n",
              "      <td>5.000000</td>\n",
              "      <td>NaN</td>\n",
              "      <td>NaN</td>\n",
              "      <td>1.281875e+04</td>\n",
              "      <td>2.139400e+04</td>\n",
              "      <td>1.028301e+04</td>\n",
              "      <td>0.000000e+00</td>\n",
              "      <td>0.000000e+00</td>\n",
              "      <td>10.000000</td>\n",
              "      <td>0.0</td>\n",
              "      <td>NaN</td>\n",
              "      <td>NaN</td>\n",
              "      <td>NaN</td>\n",
              "      <td>0.000000</td>\n",
              "    </tr>\n",
              "    <tr>\n",
              "      <th>75%</th>\n",
              "      <td>7.000000</td>\n",
              "      <td>NaN</td>\n",
              "      <td>NaN</td>\n",
              "      <td>1.144090e+05</td>\n",
              "      <td>1.732060e+05</td>\n",
              "      <td>1.721509e+05</td>\n",
              "      <td>2.818829e+05</td>\n",
              "      <td>2.523736e+05</td>\n",
              "      <td>16.000000</td>\n",
              "      <td>0.0</td>\n",
              "      <td>NaN</td>\n",
              "      <td>NaN</td>\n",
              "      <td>NaN</td>\n",
              "      <td>0.000000</td>\n",
              "    </tr>\n",
              "    <tr>\n",
              "      <th>max</th>\n",
              "      <td>7.000000</td>\n",
              "      <td>NaN</td>\n",
              "      <td>NaN</td>\n",
              "      <td>1.000000e+07</td>\n",
              "      <td>1.290000e+07</td>\n",
              "      <td>1.300000e+07</td>\n",
              "      <td>1.950000e+07</td>\n",
              "      <td>2.260000e+07</td>\n",
              "      <td>20.000000</td>\n",
              "      <td>0.0</td>\n",
              "      <td>NaN</td>\n",
              "      <td>NaN</td>\n",
              "      <td>NaN</td>\n",
              "      <td>1.000000</td>\n",
              "    </tr>\n",
              "  </tbody>\n",
              "</table>\n",
              "</div>\n",
              "    <div class=\"colab-df-buttons\">\n",
              "\n",
              "  <div class=\"colab-df-container\">\n",
              "    <button class=\"colab-df-convert\" onclick=\"convertToInteractive('df-d2a7d48e-88b8-4812-bf3e-27f60adb0feb')\"\n",
              "            title=\"Convert this dataframe to an interactive table.\"\n",
              "            style=\"display:none;\">\n",
              "\n",
              "  <svg xmlns=\"http://www.w3.org/2000/svg\" height=\"24px\" viewBox=\"0 -960 960 960\">\n",
              "    <path d=\"M120-120v-720h720v720H120Zm60-500h600v-160H180v160Zm220 220h160v-160H400v160Zm0 220h160v-160H400v160ZM180-400h160v-160H180v160Zm440 0h160v-160H620v160ZM180-180h160v-160H180v160Zm440 0h160v-160H620v160Z\"/>\n",
              "  </svg>\n",
              "    </button>\n",
              "\n",
              "  <style>\n",
              "    .colab-df-container {\n",
              "      display:flex;\n",
              "      gap: 12px;\n",
              "    }\n",
              "\n",
              "    .colab-df-convert {\n",
              "      background-color: #E8F0FE;\n",
              "      border: none;\n",
              "      border-radius: 50%;\n",
              "      cursor: pointer;\n",
              "      display: none;\n",
              "      fill: #1967D2;\n",
              "      height: 32px;\n",
              "      padding: 0 0 0 0;\n",
              "      width: 32px;\n",
              "    }\n",
              "\n",
              "    .colab-df-convert:hover {\n",
              "      background-color: #E2EBFA;\n",
              "      box-shadow: 0px 1px 2px rgba(60, 64, 67, 0.3), 0px 1px 3px 1px rgba(60, 64, 67, 0.15);\n",
              "      fill: #174EA6;\n",
              "    }\n",
              "\n",
              "    .colab-df-buttons div {\n",
              "      margin-bottom: 4px;\n",
              "    }\n",
              "\n",
              "    [theme=dark] .colab-df-convert {\n",
              "      background-color: #3B4455;\n",
              "      fill: #D2E3FC;\n",
              "    }\n",
              "\n",
              "    [theme=dark] .colab-df-convert:hover {\n",
              "      background-color: #434B5C;\n",
              "      box-shadow: 0px 1px 3px 1px rgba(0, 0, 0, 0.15);\n",
              "      filter: drop-shadow(0px 1px 2px rgba(0, 0, 0, 0.3));\n",
              "      fill: #FFFFFF;\n",
              "    }\n",
              "  </style>\n",
              "\n",
              "    <script>\n",
              "      const buttonEl =\n",
              "        document.querySelector('#df-d2a7d48e-88b8-4812-bf3e-27f60adb0feb button.colab-df-convert');\n",
              "      buttonEl.style.display =\n",
              "        google.colab.kernel.accessAllowed ? 'block' : 'none';\n",
              "\n",
              "      async function convertToInteractive(key) {\n",
              "        const element = document.querySelector('#df-d2a7d48e-88b8-4812-bf3e-27f60adb0feb');\n",
              "        const dataTable =\n",
              "          await google.colab.kernel.invokeFunction('convertToInteractive',\n",
              "                                                    [key], {});\n",
              "        if (!dataTable) return;\n",
              "\n",
              "        const docLinkHtml = 'Like what you see? Visit the ' +\n",
              "          '<a target=\"_blank\" href=https://colab.research.google.com/notebooks/data_table.ipynb>data table notebook</a>'\n",
              "          + ' to learn more about interactive tables.';\n",
              "        element.innerHTML = '';\n",
              "        dataTable['output_type'] = 'display_data';\n",
              "        await google.colab.output.renderOutput(dataTable, element);\n",
              "        const docLink = document.createElement('div');\n",
              "        docLink.innerHTML = docLinkHtml;\n",
              "        element.appendChild(docLink);\n",
              "      }\n",
              "    </script>\n",
              "  </div>\n",
              "\n",
              "\n",
              "<div id=\"df-336eafff-1e00-4440-bf77-b3c214741807\">\n",
              "  <button class=\"colab-df-quickchart\" onclick=\"quickchart('df-336eafff-1e00-4440-bf77-b3c214741807')\"\n",
              "            title=\"Suggest charts\"\n",
              "            style=\"display:none;\">\n",
              "\n",
              "<svg xmlns=\"http://www.w3.org/2000/svg\" height=\"24px\"viewBox=\"0 0 24 24\"\n",
              "     width=\"24px\">\n",
              "    <g>\n",
              "        <path d=\"M19 3H5c-1.1 0-2 .9-2 2v14c0 1.1.9 2 2 2h14c1.1 0 2-.9 2-2V5c0-1.1-.9-2-2-2zM9 17H7v-7h2v7zm4 0h-2V7h2v10zm4 0h-2v-4h2v4z\"/>\n",
              "    </g>\n",
              "</svg>\n",
              "  </button>\n",
              "\n",
              "<style>\n",
              "  .colab-df-quickchart {\n",
              "      --bg-color: #E8F0FE;\n",
              "      --fill-color: #1967D2;\n",
              "      --hover-bg-color: #E2EBFA;\n",
              "      --hover-fill-color: #174EA6;\n",
              "      --disabled-fill-color: #AAA;\n",
              "      --disabled-bg-color: #DDD;\n",
              "  }\n",
              "\n",
              "  [theme=dark] .colab-df-quickchart {\n",
              "      --bg-color: #3B4455;\n",
              "      --fill-color: #D2E3FC;\n",
              "      --hover-bg-color: #434B5C;\n",
              "      --hover-fill-color: #FFFFFF;\n",
              "      --disabled-bg-color: #3B4455;\n",
              "      --disabled-fill-color: #666;\n",
              "  }\n",
              "\n",
              "  .colab-df-quickchart {\n",
              "    background-color: var(--bg-color);\n",
              "    border: none;\n",
              "    border-radius: 50%;\n",
              "    cursor: pointer;\n",
              "    display: none;\n",
              "    fill: var(--fill-color);\n",
              "    height: 32px;\n",
              "    padding: 0;\n",
              "    width: 32px;\n",
              "  }\n",
              "\n",
              "  .colab-df-quickchart:hover {\n",
              "    background-color: var(--hover-bg-color);\n",
              "    box-shadow: 0 1px 2px rgba(60, 64, 67, 0.3), 0 1px 3px 1px rgba(60, 64, 67, 0.15);\n",
              "    fill: var(--button-hover-fill-color);\n",
              "  }\n",
              "\n",
              "  .colab-df-quickchart-complete:disabled,\n",
              "  .colab-df-quickchart-complete:disabled:hover {\n",
              "    background-color: var(--disabled-bg-color);\n",
              "    fill: var(--disabled-fill-color);\n",
              "    box-shadow: none;\n",
              "  }\n",
              "\n",
              "  .colab-df-spinner {\n",
              "    border: 2px solid var(--fill-color);\n",
              "    border-color: transparent;\n",
              "    border-bottom-color: var(--fill-color);\n",
              "    animation:\n",
              "      spin 1s steps(1) infinite;\n",
              "  }\n",
              "\n",
              "  @keyframes spin {\n",
              "    0% {\n",
              "      border-color: transparent;\n",
              "      border-bottom-color: var(--fill-color);\n",
              "      border-left-color: var(--fill-color);\n",
              "    }\n",
              "    20% {\n",
              "      border-color: transparent;\n",
              "      border-left-color: var(--fill-color);\n",
              "      border-top-color: var(--fill-color);\n",
              "    }\n",
              "    30% {\n",
              "      border-color: transparent;\n",
              "      border-left-color: var(--fill-color);\n",
              "      border-top-color: var(--fill-color);\n",
              "      border-right-color: var(--fill-color);\n",
              "    }\n",
              "    40% {\n",
              "      border-color: transparent;\n",
              "      border-right-color: var(--fill-color);\n",
              "      border-top-color: var(--fill-color);\n",
              "    }\n",
              "    60% {\n",
              "      border-color: transparent;\n",
              "      border-right-color: var(--fill-color);\n",
              "    }\n",
              "    80% {\n",
              "      border-color: transparent;\n",
              "      border-right-color: var(--fill-color);\n",
              "      border-bottom-color: var(--fill-color);\n",
              "    }\n",
              "    90% {\n",
              "      border-color: transparent;\n",
              "      border-bottom-color: var(--fill-color);\n",
              "    }\n",
              "  }\n",
              "</style>\n",
              "\n",
              "  <script>\n",
              "    async function quickchart(key) {\n",
              "      const quickchartButtonEl =\n",
              "        document.querySelector('#' + key + ' button');\n",
              "      quickchartButtonEl.disabled = true;  // To prevent multiple clicks.\n",
              "      quickchartButtonEl.classList.add('colab-df-spinner');\n",
              "      try {\n",
              "        const charts = await google.colab.kernel.invokeFunction(\n",
              "            'suggestCharts', [key], {});\n",
              "      } catch (error) {\n",
              "        console.error('Error during call to suggestCharts:', error);\n",
              "      }\n",
              "      quickchartButtonEl.classList.remove('colab-df-spinner');\n",
              "      quickchartButtonEl.classList.add('colab-df-quickchart-complete');\n",
              "    }\n",
              "    (() => {\n",
              "      let quickchartButtonEl =\n",
              "        document.querySelector('#df-336eafff-1e00-4440-bf77-b3c214741807 button');\n",
              "      quickchartButtonEl.style.display =\n",
              "        google.colab.kernel.accessAllowed ? 'block' : 'none';\n",
              "    })();\n",
              "  </script>\n",
              "</div>\n",
              "\n",
              "    </div>\n",
              "  </div>\n"
            ],
            "application/vnd.google.colaboratory.intrinsic+json": {
              "type": "dataframe",
              "summary": "{\n  \"name\": \"data\",\n  \"rows\": 11,\n  \"fields\": [\n    {\n      \"column\": \"step\",\n      \"properties\": {\n        \"dtype\": \"number\",\n        \"std\": 3565.2482283060885,\n        \"min\": 1.0,\n        \"max\": 10088.0,\n        \"num_unique_values\": 6,\n        \"samples\": [\n          10088.0,\n          4.21956780333069,\n          7.0\n        ],\n        \"semantic_type\": \"\",\n        \"description\": \"\"\n      }\n    },\n    {\n      \"column\": \"type\",\n      \"properties\": {\n        \"dtype\": \"category\",\n        \"num_unique_values\": 4,\n        \"samples\": [\n          5,\n          \"5522\",\n          \"10088\"\n        ],\n        \"semantic_type\": \"\",\n        \"description\": \"\"\n      }\n    },\n    {\n      \"column\": \"branch\",\n      \"properties\": {\n        \"dtype\": \"category\",\n        \"num_unique_values\": 4,\n        \"samples\": [\n          135,\n          \"1277\",\n          \"10088\"\n        ],\n        \"semantic_type\": \"\",\n        \"description\": \"\"\n      }\n    },\n    {\n      \"column\": \"amount\",\n      \"properties\": {\n        \"dtype\": \"number\",\n        \"std\": 3510597.258310353,\n        \"min\": 2.39,\n        \"max\": 10000000.0,\n        \"num_unique_values\": 8,\n        \"samples\": [\n          104991.51677636796,\n          12818.75,\n          10088.0\n        ],\n        \"semantic_type\": \"\",\n        \"description\": \"\"\n      }\n    },\n    {\n      \"column\": \"oldbalanceOrg\",\n      \"properties\": {\n        \"dtype\": \"number\",\n        \"std\": 4460544.3233712455,\n        \"min\": 0.0,\n        \"max\": 12900000.0,\n        \"num_unique_values\": 8,\n        \"samples\": [\n          886732.2046322363,\n          21394.0,\n          10088.0\n        ],\n        \"semantic_type\": \"\",\n        \"description\": \"\"\n      }\n    },\n    {\n      \"column\": \"newbalanceOrig\",\n      \"properties\": {\n        \"dtype\": \"number\",\n        \"std\": 4495607.964061553,\n        \"min\": 0.0,\n        \"max\": 13000000.0,\n        \"num_unique_values\": 7,\n        \"samples\": [\n          10088.0,\n          907773.7847045995,\n          172150.9075\n        ],\n        \"semantic_type\": \"\",\n        \"description\": \"\"\n      }\n    },\n    {\n      \"column\": \"oldbalanceDest\",\n      \"properties\": {\n        \"dtype\": \"number\",\n        \"std\": 6760197.113015904,\n        \"min\": 0.0,\n        \"max\": 19500000.0,\n        \"num_unique_values\": 6,\n        \"samples\": [\n          10088.0,\n          934511.7678102695,\n          19500000.0\n        ],\n        \"semantic_type\": \"\",\n        \"description\": \"\"\n      }\n    },\n    {\n      \"column\": \"newbalanceDest\",\n      \"properties\": {\n        \"dtype\": \"number\",\n        \"std\": 7838477.286389905,\n        \"min\": 0.0,\n        \"max\": 22600000.0,\n        \"num_unique_values\": 6,\n        \"samples\": [\n          10088.0,\n          1108235.5098562648,\n          22600000.0\n        ],\n        \"semantic_type\": \"\",\n        \"description\": \"\"\n      }\n    },\n    {\n      \"column\": \"unusuallogin\",\n      \"properties\": {\n        \"dtype\": \"number\",\n        \"std\": 3563.201073739947,\n        \"min\": 0.0,\n        \"max\": 10088.0,\n        \"num_unique_values\": 8,\n        \"samples\": [\n          10.51526566217288,\n          10.0,\n          10088.0\n        ],\n        \"semantic_type\": \"\",\n        \"description\": \"\"\n      }\n    },\n    {\n      \"column\": \"isFlaggedFraud\",\n      \"properties\": {\n        \"dtype\": \"number\",\n        \"std\": 3566.646604304946,\n        \"min\": 0.0,\n        \"max\": 10088.0,\n        \"num_unique_values\": 2,\n        \"samples\": [\n          0.0,\n          10088.0\n        ],\n        \"semantic_type\": \"\",\n        \"description\": \"\"\n      }\n    },\n    {\n      \"column\": \"Acct type\",\n      \"properties\": {\n        \"dtype\": \"category\",\n        \"num_unique_values\": 4,\n        \"samples\": [\n          2,\n          \"6971\"\n        ],\n        \"semantic_type\": \"\",\n        \"description\": \"\"\n      }\n    },\n    {\n      \"column\": \"Date of transaction\",\n      \"properties\": {\n        \"dtype\": \"date\",\n        \"min\": \"1970-01-01 00:00:00.000000014\",\n        \"max\": \"2018-06-01 00:00:00\",\n        \"num_unique_values\": 4,\n        \"samples\": [\n          14,\n          \"1444\"\n        ],\n        \"semantic_type\": \"\",\n        \"description\": \"\"\n      }\n    },\n    {\n      \"column\": \"Time of day\",\n      \"properties\": {\n        \"dtype\": \"category\",\n        \"num_unique_values\": 4,\n        \"samples\": [\n          3,\n          \"3615\"\n        ],\n        \"semantic_type\": \"\",\n        \"description\": \"\"\n      }\n    },\n    {\n      \"column\": \"isFraud\",\n      \"properties\": {\n        \"dtype\": \"number\",\n        \"std\": 3566.5916400286555,\n        \"min\": 0.0,\n        \"max\": 10088.0,\n        \"num_unique_values\": 5,\n        \"samples\": [\n          0.0067406819984139575,\n          1.0\n        ],\n        \"semantic_type\": \"\",\n        \"description\": \"\"\n      }\n    }\n  ]\n}"
            }
          },
          "metadata": {},
          "execution_count": 8
        }
      ]
    },
    {
      "cell_type": "markdown",
      "source": [
        "**ENCODING DATA WHICH ARE OBJECT DATATYPE AS MODEL ONLY ACCEPTS THE NUMERICAL DATA**"
      ],
      "metadata": {
        "id": "5zZH3iV4Vpdt"
      }
    },
    {
      "cell_type": "code",
      "source": [
        "from sklearn.preprocessing import LabelEncoder\n",
        "label_encoder = LabelEncoder()\n",
        "data['type'] = label_encoder.fit_transform(data['type'])\n",
        "data['branch']=label_encoder.fit_transform(data['branch'])"
      ],
      "metadata": {
        "id": "PTgGmaqC7f6-"
      },
      "execution_count": 9,
      "outputs": []
    },
    {
      "cell_type": "code",
      "source": [
        "data['Time of day'] = label_encoder.fit_transform(data['Time of day'])"
      ],
      "metadata": {
        "id": "w1pjwjFH_oq2"
      },
      "execution_count": 10,
      "outputs": []
    },
    {
      "cell_type": "code",
      "source": [
        "data['Acct type'] = label_encoder.fit_transform(data['Acct type'])"
      ],
      "metadata": {
        "id": "VLJJb6umAuF7"
      },
      "execution_count": 11,
      "outputs": []
    },
    {
      "cell_type": "markdown",
      "source": [
        "**SPLITTING DATA INTO TRAIN AND TEST DATA**"
      ],
      "metadata": {
        "id": "2qE5GLKoV8Uk"
      }
    },
    {
      "cell_type": "code",
      "source": [
        "x = data.columns.drop('isFraud')\n",
        "y = data['isFraud']\n",
        "data.drop('isFraud', axis=1, inplace =True)"
      ],
      "metadata": {
        "id": "WA6xlX-j5kvd"
      },
      "execution_count": 13,
      "outputs": []
    },
    {
      "cell_type": "code",
      "source": [
        "from sklearn.model_selection import train_test_split\n",
        "X_train, X_test, y_train, y_test = train_test_split(data, y, test_size=0.2, random_state=0)"
      ],
      "metadata": {
        "id": "1MX9NLDB558Y"
      },
      "execution_count": 14,
      "outputs": []
    },
    {
      "cell_type": "code",
      "source": [
        "print('Train Features - X_train:', np.shape(X_train))\n",
        "print('Train Labels - y_train:', np.shape(y_train))\n",
        "print('Test Features - X_test:', np.shape(X_test))\n",
        "print('Test Labels y_test:', np.shape(y_test))"
      ],
      "metadata": {
        "colab": {
          "base_uri": "https://localhost:8080/"
        },
        "id": "U2P8Rnuy6DUD",
        "outputId": "7c3d4773-3e2d-49a8-aeb0-20934984bd85"
      },
      "execution_count": 15,
      "outputs": [
        {
          "output_type": "stream",
          "name": "stdout",
          "text": [
            "Train Features - X_train: (8070, 12)\n",
            "Train Labels - y_train: (8070,)\n",
            "Test Features - X_test: (2018, 12)\n",
            "Test Labels y_test: (2018,)\n"
          ]
        }
      ]
    },
    {
      "cell_type": "markdown",
      "source": [
        "**MODEL FOR CLASSIFICATION**"
      ],
      "metadata": {
        "id": "6mRI9JJ5WFcZ"
      }
    },
    {
      "cell_type": "code",
      "source": [
        "import keras\n",
        "from keras.models import Sequential\n",
        "from keras.layers import Dense\n",
        "from keras import regularizers\n"
      ],
      "metadata": {
        "id": "FEw2SExb6Lz0"
      },
      "execution_count": 16,
      "outputs": []
    },
    {
      "cell_type": "code",
      "source": [
        "model = Sequential()\n",
        "model.add(Dense(64, kernel_regularizer=regularizers.l2(l2=0.001),activation='relu'))\n",
        "model.add(Dense(32, kernel_regularizer=regularizers.l2(l2=0.001),activation='relu'))\n",
        "model.add(Dense(16, activation='relu'))\n",
        "model.add(Dense(8, activation='relu'))\n",
        "model.add(Dense(1, activation='sigmoid'))\n"
      ],
      "metadata": {
        "id": "UeTUBcqh6UGy"
      },
      "execution_count": 17,
      "outputs": []
    },
    {
      "cell_type": "code",
      "source": [
        "adam = keras.optimizers.Adam(learning_rate=0.01)\n",
        "model.compile(loss='binary_crossentropy', optimizer=adam, metrics=[\"accuracy\"])"
      ],
      "metadata": {
        "id": "xnNphNMO6azZ"
      },
      "execution_count": 18,
      "outputs": []
    },
    {
      "cell_type": "code",
      "source": [
        "train_result = model.fit(X_train, y_train, epochs=70,validation_split=0.1)"
      ],
      "metadata": {
        "colab": {
          "base_uri": "https://localhost:8080/"
        },
        "id": "hthoqkRj6gQ-",
        "outputId": "f9d3e351-18f4-4684-dea6-fa82049c203f"
      },
      "execution_count": 20,
      "outputs": [
        {
          "output_type": "stream",
          "name": "stdout",
          "text": [
            "Epoch 1/70\n",
            "227/227 [==============================] - 6s 11ms/step - loss: 369.6896 - accuracy: 0.9547 - val_loss: 15.9232 - val_accuracy: 0.9368\n",
            "Epoch 2/70\n",
            "227/227 [==============================] - 2s 9ms/step - loss: 27.3642 - accuracy: 0.9862 - val_loss: 5.8957 - val_accuracy: 0.9653\n",
            "Epoch 3/70\n",
            "227/227 [==============================] - 2s 9ms/step - loss: 45.7962 - accuracy: 0.9890 - val_loss: 0.1010 - val_accuracy: 0.9938\n",
            "Epoch 4/70\n",
            "227/227 [==============================] - 1s 3ms/step - loss: 0.0866 - accuracy: 0.9946 - val_loss: 0.0821 - val_accuracy: 0.9938\n",
            "Epoch 5/70\n",
            "227/227 [==============================] - 0s 2ms/step - loss: 0.0751 - accuracy: 0.9946 - val_loss: 0.0763 - val_accuracy: 0.9938\n",
            "Epoch 6/70\n",
            "227/227 [==============================] - 1s 2ms/step - loss: 0.0708 - accuracy: 0.9946 - val_loss: 0.0732 - val_accuracy: 0.9938\n",
            "Epoch 7/70\n",
            "227/227 [==============================] - 0s 2ms/step - loss: 0.0682 - accuracy: 0.9946 - val_loss: 0.0711 - val_accuracy: 0.9938\n",
            "Epoch 8/70\n",
            "227/227 [==============================] - 1s 2ms/step - loss: 0.0665 - accuracy: 0.9946 - val_loss: 0.0697 - val_accuracy: 0.9938\n",
            "Epoch 9/70\n",
            "227/227 [==============================] - 1s 2ms/step - loss: 0.0651 - accuracy: 0.9946 - val_loss: 0.0684 - val_accuracy: 0.9938\n",
            "Epoch 10/70\n",
            "227/227 [==============================] - 1s 2ms/step - loss: 0.0640 - accuracy: 0.9946 - val_loss: 0.0675 - val_accuracy: 0.9938\n",
            "Epoch 11/70\n",
            "227/227 [==============================] - 0s 2ms/step - loss: 0.0630 - accuracy: 0.9946 - val_loss: 0.0666 - val_accuracy: 0.9938\n",
            "Epoch 12/70\n",
            "227/227 [==============================] - 1s 2ms/step - loss: 0.0622 - accuracy: 0.9946 - val_loss: 0.0658 - val_accuracy: 0.9938\n",
            "Epoch 13/70\n",
            "227/227 [==============================] - 0s 2ms/step - loss: 0.0615 - accuracy: 0.9946 - val_loss: 0.0651 - val_accuracy: 0.9938\n",
            "Epoch 14/70\n",
            "227/227 [==============================] - 1s 2ms/step - loss: 0.0610 - accuracy: 0.9946 - val_loss: 0.0645 - val_accuracy: 0.9938\n",
            "Epoch 15/70\n",
            "227/227 [==============================] - 0s 2ms/step - loss: 0.0604 - accuracy: 0.9946 - val_loss: 0.0640 - val_accuracy: 0.9938\n",
            "Epoch 16/70\n",
            "227/227 [==============================] - 1s 2ms/step - loss: 0.0600 - accuracy: 0.9946 - val_loss: 0.0636 - val_accuracy: 0.9938\n",
            "Epoch 17/70\n",
            "227/227 [==============================] - 1s 2ms/step - loss: 0.0595 - accuracy: 0.9946 - val_loss: 0.0631 - val_accuracy: 0.9938\n",
            "Epoch 18/70\n",
            "227/227 [==============================] - 1s 3ms/step - loss: 0.0592 - accuracy: 0.9946 - val_loss: 0.0628 - val_accuracy: 0.9938\n",
            "Epoch 19/70\n",
            "227/227 [==============================] - 1s 2ms/step - loss: 0.0588 - accuracy: 0.9946 - val_loss: 0.0625 - val_accuracy: 0.9938\n",
            "Epoch 20/70\n",
            "227/227 [==============================] - 1s 2ms/step - loss: 0.0585 - accuracy: 0.9946 - val_loss: 0.0622 - val_accuracy: 0.9938\n",
            "Epoch 21/70\n",
            "227/227 [==============================] - 1s 2ms/step - loss: 0.0582 - accuracy: 0.9946 - val_loss: 0.0619 - val_accuracy: 0.9938\n",
            "Epoch 22/70\n",
            "227/227 [==============================] - 1s 2ms/step - loss: 0.0578 - accuracy: 0.9946 - val_loss: 0.0609 - val_accuracy: 0.9938\n",
            "Epoch 23/70\n",
            "227/227 [==============================] - 1s 2ms/step - loss: 0.0595 - accuracy: 0.9946 - val_loss: 0.0615 - val_accuracy: 0.9938\n",
            "Epoch 24/70\n",
            "227/227 [==============================] - 1s 3ms/step - loss: 0.0575 - accuracy: 0.9946 - val_loss: 0.0612 - val_accuracy: 0.9938\n",
            "Epoch 25/70\n",
            "227/227 [==============================] - 1s 3ms/step - loss: 0.0572 - accuracy: 0.9946 - val_loss: 0.0608 - val_accuracy: 0.9938\n",
            "Epoch 26/70\n",
            "227/227 [==============================] - 1s 3ms/step - loss: 0.0569 - accuracy: 0.9946 - val_loss: 0.0605 - val_accuracy: 0.9938\n",
            "Epoch 27/70\n",
            "227/227 [==============================] - 1s 4ms/step - loss: 0.0566 - accuracy: 0.9946 - val_loss: 0.0601 - val_accuracy: 0.9938\n",
            "Epoch 28/70\n",
            "227/227 [==============================] - 1s 4ms/step - loss: 0.0562 - accuracy: 0.9946 - val_loss: 0.0597 - val_accuracy: 0.9938\n",
            "Epoch 29/70\n",
            "227/227 [==============================] - 1s 4ms/step - loss: 0.0558 - accuracy: 0.9946 - val_loss: 0.0593 - val_accuracy: 0.9938\n",
            "Epoch 30/70\n",
            "227/227 [==============================] - 1s 2ms/step - loss: 0.0554 - accuracy: 0.9946 - val_loss: 0.0590 - val_accuracy: 0.9938\n",
            "Epoch 31/70\n",
            "227/227 [==============================] - 0s 2ms/step - loss: 0.0551 - accuracy: 0.9946 - val_loss: 0.0586 - val_accuracy: 0.9938\n",
            "Epoch 32/70\n",
            "227/227 [==============================] - 1s 2ms/step - loss: 0.0546 - accuracy: 0.9946 - val_loss: 0.0581 - val_accuracy: 0.9938\n",
            "Epoch 33/70\n",
            "227/227 [==============================] - 0s 2ms/step - loss: 0.0542 - accuracy: 0.9946 - val_loss: 0.0578 - val_accuracy: 0.9938\n",
            "Epoch 34/70\n",
            "227/227 [==============================] - 1s 2ms/step - loss: 0.0538 - accuracy: 0.9946 - val_loss: 0.0573 - val_accuracy: 0.9938\n",
            "Epoch 35/70\n",
            "227/227 [==============================] - 0s 2ms/step - loss: 0.0534 - accuracy: 0.9946 - val_loss: 0.0568 - val_accuracy: 0.9938\n",
            "Epoch 36/70\n",
            "227/227 [==============================] - 1s 2ms/step - loss: 0.0536 - accuracy: 0.9946 - val_loss: 0.0573 - val_accuracy: 0.9938\n",
            "Epoch 37/70\n",
            "227/227 [==============================] - 1s 2ms/step - loss: 0.0533 - accuracy: 0.9946 - val_loss: 0.0567 - val_accuracy: 0.9938\n",
            "Epoch 38/70\n",
            "227/227 [==============================] - 0s 2ms/step - loss: 0.0527 - accuracy: 0.9946 - val_loss: 0.0562 - val_accuracy: 0.9938\n",
            "Epoch 39/70\n",
            "227/227 [==============================] - 1s 2ms/step - loss: 0.0523 - accuracy: 0.9946 - val_loss: 0.0558 - val_accuracy: 0.9938\n",
            "Epoch 40/70\n",
            "227/227 [==============================] - 0s 2ms/step - loss: 0.0518 - accuracy: 0.9946 - val_loss: 0.0553 - val_accuracy: 0.9938\n",
            "Epoch 41/70\n",
            "227/227 [==============================] - 1s 2ms/step - loss: 1.2281 - accuracy: 0.9930 - val_loss: 0.0801 - val_accuracy: 0.9938\n",
            "Epoch 42/70\n",
            "227/227 [==============================] - 1s 2ms/step - loss: 0.0754 - accuracy: 0.9946 - val_loss: 0.0790 - val_accuracy: 0.9938\n",
            "Epoch 43/70\n",
            "227/227 [==============================] - 1s 2ms/step - loss: 0.0746 - accuracy: 0.9946 - val_loss: 0.0785 - val_accuracy: 0.9938\n",
            "Epoch 44/70\n",
            "227/227 [==============================] - 0s 2ms/step - loss: 0.0740 - accuracy: 0.9946 - val_loss: 0.0779 - val_accuracy: 0.9938\n",
            "Epoch 45/70\n",
            "227/227 [==============================] - 1s 2ms/step - loss: 0.0734 - accuracy: 0.9946 - val_loss: 0.0774 - val_accuracy: 0.9938\n",
            "Epoch 46/70\n",
            "227/227 [==============================] - 0s 2ms/step - loss: 0.0728 - accuracy: 0.9946 - val_loss: 0.0769 - val_accuracy: 0.9938\n",
            "Epoch 47/70\n",
            "227/227 [==============================] - 1s 2ms/step - loss: 0.0723 - accuracy: 0.9946 - val_loss: 0.0763 - val_accuracy: 0.9938\n",
            "Epoch 48/70\n",
            "227/227 [==============================] - 1s 2ms/step - loss: 0.0717 - accuracy: 0.9946 - val_loss: 0.0757 - val_accuracy: 0.9938\n",
            "Epoch 49/70\n",
            "227/227 [==============================] - 1s 3ms/step - loss: 0.0711 - accuracy: 0.9946 - val_loss: 0.0752 - val_accuracy: 0.9938\n",
            "Epoch 50/70\n",
            "227/227 [==============================] - 1s 3ms/step - loss: 0.0706 - accuracy: 0.9946 - val_loss: 0.0746 - val_accuracy: 0.9938\n",
            "Epoch 51/70\n",
            "227/227 [==============================] - 1s 3ms/step - loss: 0.0700 - accuracy: 0.9946 - val_loss: 0.0740 - val_accuracy: 0.9938\n",
            "Epoch 52/70\n",
            "227/227 [==============================] - 1s 3ms/step - loss: 0.0695 - accuracy: 0.9946 - val_loss: 0.0735 - val_accuracy: 0.9938\n",
            "Epoch 53/70\n",
            "227/227 [==============================] - 1s 4ms/step - loss: 0.0689 - accuracy: 0.9946 - val_loss: 0.0729 - val_accuracy: 0.9938\n",
            "Epoch 54/70\n",
            "227/227 [==============================] - 1s 4ms/step - loss: 0.0683 - accuracy: 0.9946 - val_loss: 0.0722 - val_accuracy: 0.9938\n",
            "Epoch 55/70\n",
            "227/227 [==============================] - 1s 3ms/step - loss: 0.0677 - accuracy: 0.9946 - val_loss: 0.0716 - val_accuracy: 0.9938\n",
            "Epoch 56/70\n",
            "227/227 [==============================] - 1s 2ms/step - loss: 0.0671 - accuracy: 0.9946 - val_loss: 0.0710 - val_accuracy: 0.9938\n",
            "Epoch 57/70\n",
            "227/227 [==============================] - 1s 2ms/step - loss: 0.0665 - accuracy: 0.9946 - val_loss: 0.0704 - val_accuracy: 0.9938\n",
            "Epoch 58/70\n",
            "227/227 [==============================] - 1s 2ms/step - loss: 0.0658 - accuracy: 0.9946 - val_loss: 0.0697 - val_accuracy: 0.9938\n",
            "Epoch 59/70\n",
            "227/227 [==============================] - 1s 2ms/step - loss: 0.0652 - accuracy: 0.9946 - val_loss: 0.0691 - val_accuracy: 0.9938\n",
            "Epoch 60/70\n",
            "227/227 [==============================] - 0s 2ms/step - loss: 0.0645 - accuracy: 0.9946 - val_loss: 0.0684 - val_accuracy: 0.9938\n",
            "Epoch 61/70\n",
            "227/227 [==============================] - 1s 2ms/step - loss: 0.0638 - accuracy: 0.9946 - val_loss: 0.0677 - val_accuracy: 0.9938\n",
            "Epoch 62/70\n",
            "227/227 [==============================] - 1s 2ms/step - loss: 0.0630 - accuracy: 0.9946 - val_loss: 0.0669 - val_accuracy: 0.9938\n",
            "Epoch 63/70\n",
            "227/227 [==============================] - 1s 2ms/step - loss: 0.0623 - accuracy: 0.9946 - val_loss: 0.0662 - val_accuracy: 0.9938\n",
            "Epoch 64/70\n",
            "227/227 [==============================] - 1s 2ms/step - loss: 0.0616 - accuracy: 0.9946 - val_loss: 0.0654 - val_accuracy: 0.9938\n",
            "Epoch 65/70\n",
            "227/227 [==============================] - 1s 2ms/step - loss: 0.0608 - accuracy: 0.9946 - val_loss: 0.0647 - val_accuracy: 0.9938\n",
            "Epoch 66/70\n",
            "227/227 [==============================] - 0s 2ms/step - loss: 0.0600 - accuracy: 0.9946 - val_loss: 0.0638 - val_accuracy: 0.9938\n",
            "Epoch 67/70\n",
            "227/227 [==============================] - 1s 2ms/step - loss: 0.0592 - accuracy: 0.9946 - val_loss: 0.0630 - val_accuracy: 0.9938\n",
            "Epoch 68/70\n",
            "227/227 [==============================] - 1s 2ms/step - loss: 0.0584 - accuracy: 0.9946 - val_loss: 0.0622 - val_accuracy: 0.9938\n",
            "Epoch 69/70\n",
            "227/227 [==============================] - 1s 2ms/step - loss: 0.0575 - accuracy: 0.9946 - val_loss: 0.0614 - val_accuracy: 0.9938\n",
            "Epoch 70/70\n",
            "227/227 [==============================] - 1s 2ms/step - loss: 0.0567 - accuracy: 0.9946 - val_loss: 0.0605 - val_accuracy: 0.9938\n"
          ]
        }
      ]
    },
    {
      "cell_type": "code",
      "source": [
        "!pip install pandas scikit-learn flask"
      ],
      "metadata": {
        "id": "TeZB2BqrC5cL",
        "colab": {
          "base_uri": "https://localhost:8080/"
        },
        "outputId": "5873786d-8a5b-45cd-a8c7-1173c7d26b2e"
      },
      "execution_count": 28,
      "outputs": [
        {
          "output_type": "stream",
          "name": "stdout",
          "text": [
            "Requirement already satisfied: pandas in /usr/local/lib/python3.10/dist-packages (2.0.3)\n",
            "Requirement already satisfied: scikit-learn in /usr/local/lib/python3.10/dist-packages (1.2.2)\n",
            "Requirement already satisfied: flask in /usr/local/lib/python3.10/dist-packages (2.2.5)\n",
            "Requirement already satisfied: python-dateutil>=2.8.2 in /usr/local/lib/python3.10/dist-packages (from pandas) (2.8.2)\n",
            "Requirement already satisfied: pytz>=2020.1 in /usr/local/lib/python3.10/dist-packages (from pandas) (2023.4)\n",
            "Requirement already satisfied: tzdata>=2022.1 in /usr/local/lib/python3.10/dist-packages (from pandas) (2024.1)\n",
            "Requirement already satisfied: numpy>=1.21.0 in /usr/local/lib/python3.10/dist-packages (from pandas) (1.25.2)\n",
            "Requirement already satisfied: scipy>=1.3.2 in /usr/local/lib/python3.10/dist-packages (from scikit-learn) (1.11.4)\n",
            "Requirement already satisfied: joblib>=1.1.1 in /usr/local/lib/python3.10/dist-packages (from scikit-learn) (1.4.2)\n",
            "Requirement already satisfied: threadpoolctl>=2.0.0 in /usr/local/lib/python3.10/dist-packages (from scikit-learn) (3.5.0)\n",
            "Requirement already satisfied: Werkzeug>=2.2.2 in /usr/local/lib/python3.10/dist-packages (from flask) (3.0.3)\n",
            "Requirement already satisfied: Jinja2>=3.0 in /usr/local/lib/python3.10/dist-packages (from flask) (3.1.4)\n",
            "Requirement already satisfied: itsdangerous>=2.0 in /usr/local/lib/python3.10/dist-packages (from flask) (2.2.0)\n",
            "Requirement already satisfied: click>=8.0 in /usr/local/lib/python3.10/dist-packages (from flask) (8.1.7)\n",
            "Requirement already satisfied: MarkupSafe>=2.0 in /usr/local/lib/python3.10/dist-packages (from Jinja2>=3.0->flask) (2.1.5)\n",
            "Requirement already satisfied: six>=1.5 in /usr/local/lib/python3.10/dist-packages (from python-dateutil>=2.8.2->pandas) (1.16.0)\n"
          ]
        }
      ]
    },
    {
      "cell_type": "code",
      "source": [
        "model.save('fraud_detection_model.h5')"
      ],
      "metadata": {
        "colab": {
          "base_uri": "https://localhost:8080/"
        },
        "id": "3w4orRYdMe_B",
        "outputId": "be399682-59fb-413b-aa34-128372233a7b"
      },
      "execution_count": 21,
      "outputs": [
        {
          "output_type": "stream",
          "name": "stderr",
          "text": [
            "/usr/local/lib/python3.10/dist-packages/keras/src/engine/training.py:3103: UserWarning: You are saving your model as an HDF5 file via `model.save()`. This file format is considered legacy. We recommend using instead the native Keras format, e.g. `model.save('my_model.keras')`.\n",
            "  saving_api.save_model(\n"
          ]
        }
      ]
    },
    {
      "cell_type": "code",
      "source": [
        "print(train_result)\n",
        "print(train_result.history.keys())"
      ],
      "metadata": {
        "colab": {
          "base_uri": "https://localhost:8080/"
        },
        "id": "Yl-SvardAUa9",
        "outputId": "23181131-d58e-459a-907e-546a5779ca5f"
      },
      "execution_count": 22,
      "outputs": [
        {
          "output_type": "stream",
          "name": "stdout",
          "text": [
            "<keras.src.callbacks.History object at 0x7e26d6b279a0>\n",
            "dict_keys(['loss', 'accuracy', 'val_loss', 'val_accuracy'])\n"
          ]
        }
      ]
    },
    {
      "cell_type": "code",
      "source": [
        "plt.plot(train_result.history['loss'])\n",
        "plt.plot(train_result.history['val_loss'])\n",
        "plt.title(\"Loss Curve\")\n",
        "plt.xlabel(\"Epochs\")\n",
        "plt.ylabel(\"Loss Score\")\n",
        "plt.legend(['Training', 'Validation'])\n",
        "plt.show()"
      ],
      "metadata": {
        "colab": {
          "base_uri": "https://localhost:8080/",
          "height": 472
        },
        "id": "uCS8f8I6CNPW",
        "outputId": "6cf87873-2431-4959-d90a-c0d01d6695a7"
      },
      "execution_count": 23,
      "outputs": [
        {
          "output_type": "display_data",
          "data": {
            "text/plain": [
              "<Figure size 640x480 with 1 Axes>"
            ],
            "image/png": "[encoded data removed]"
          },
          "metadata": {}
        }
      ]
    },
    {
      "cell_type": "code",
      "source": [
        "plt.plot(train_result.history['accuracy'])\n",
        "plt.plot(train_result.history['val_accuracy'])\n",
        "plt.title(\"Accuracy curve\")\n",
        "plt.xlabel(\"Epochs\")\n",
        "plt.ylabel(\"Accuracy Score\")\n",
        "plt.legend(['Training', 'Validation'])\n",
        "plt.show()"
      ],
      "metadata": {
        "colab": {
          "base_uri": "https://localhost:8080/",
          "height": 472
        },
        "id": "XcUZu6qFsmSx",
        "outputId": "7397d9a9-5b14-4aaa-9fef-df533a9412ac"
      },
      "execution_count": 24,
      "outputs": [
        {
          "output_type": "display_data",
          "data": {
            "text/plain": [
              "<Figure size 640x480 with 1 Axes>"
            ],
            "image/png": "[encoded data removed]"
          },
          "metadata": {}
        }
      ]
    },
    {
      "cell_type": "code",
      "source": [
        "pred = model.predict(X_test)\n",
        "print(pred)\n"
      ],
      "metadata": {
        "colab": {
          "base_uri": "https://localhost:8080/"
        },
        "id": "fsxmf5H9CgX4",
        "outputId": "35b04942-2fd5-4df7-c69e-3ccf8c59af73"
      },
      "execution_count": 25,
      "outputs": [
        {
          "output_type": "stream",
          "name": "stdout",
          "text": [
            "64/64 [==============================] - 0s 1ms/step\n",
            "[[0.005381]\n",
            " [0.005381]\n",
            " [0.005381]\n",
            " ...\n",
            " [0.005381]\n",
            " [0.005381]\n",
            " [0.005381]]\n"
          ]
        }
      ]
    },
    {
      "cell_type": "code",
      "source": [
        "result = model.evaluate(X_test, y_test)\n",
        "print(\"Test - Loss Score\", result[0])\n",
        "print(\"Test - Accuracy\", result[1])\n",
        "#print(\"Test - F1 Score\", result[2])"
      ],
      "metadata": {
        "colab": {
          "base_uri": "https://localhost:8080/"
        },
        "id": "HIfbQ3uPCWMS",
        "outputId": "c831c0c8-aee6-4ba2-b24b-6b15bba4b39c"
      },
      "execution_count": 27,
      "outputs": [
        {
          "output_type": "stream",
          "name": "stdout",
          "text": [
            "64/64 [==============================] - 0s 5ms/step - loss: 0.0903 - accuracy: 0.9881\n",
            "Test - Loss Score 0.09028143435716629\n",
            "Test - Accuracy 0.9881070256233215\n"
          ]
        }
      ]
    }
  ]
}